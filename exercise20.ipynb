{
 "cells": [
  {
   "cell_type": "code",
   "execution_count": 66,
   "metadata": {},
   "outputs": [
    {
     "name": "stdout",
     "output_type": "stream",
     "text": [
      "0.1544652650835347\n",
      "0.45016600268752216\n",
      "0.8455347349164652\n"
     ]
    }
   ],
   "source": [
    "import math\n",
    "import numpy as np\n",
    "\n",
    "x = np.array([4, 3, 0])\n",
    "c1 = np.array([-.5, .1, .08])\n",
    "c2 = np.array([-.2, .2, .31])\n",
    "c3 = np.array([.5, -.1, 2.53])\n",
    "\n",
    "def sigmoid(z):\n",
    "    # add your implementation of the sigmoid function here\n",
    "    print(1 / (1 + math.exp(-z)))\n",
    "\n",
    "# calculate the output of the sigmoid for x with all three coefficients\n",
    "sigmoid(sum(x * c1))\n",
    "sigmoid(sum(x * c2))\n",
    "sigmoid(sum(x * c3))"
   ]
  },
  {
   "cell_type": "code",
   "execution_count": 67,
   "metadata": {},
   "outputs": [
    {
     "name": "stdout",
     "output_type": "stream",
     "text": [
      "[0.1544652650835347, 0.45016600268752216, 0.8455347349164652]\n"
     ]
    }
   ],
   "source": [
    "def sigmoid_func(z):\n",
    "    # add your implementation of the sigmoid function here\n",
    "    return 1 / (1 + math.exp(-z))\n",
    "\n",
    "# calculate the output of the sigmoid for x with all three coefficients\n",
    "C = [c1, c2, c3]\n",
    "A = [sum(x * c) for c in C]\n",
    "Z = [sigmoid_func(a) for a in A]\n",
    "print(Z)"
   ]
  },
  {
   "cell_type": "code",
   "execution_count": null,
   "metadata": {},
   "outputs": [],
   "source": []
  }
 ],
 "metadata": {
  "kernelspec": {
   "display_name": "Python 3",
   "language": "python",
   "name": "python3"
  },
  "language_info": {
   "codemirror_mode": {
    "name": "ipython",
    "version": 3
   },
   "file_extension": ".py",
   "mimetype": "text/x-python",
   "name": "python",
   "nbconvert_exporter": "python",
   "pygments_lexer": "ipython3",
   "version": "3.8.5"
  }
 },
 "nbformat": 4,
 "nbformat_minor": 4
}
