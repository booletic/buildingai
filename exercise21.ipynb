{
 "cells": [
  {
   "cell_type": "code",
   "execution_count": 11,
   "metadata": {},
   "outputs": [
    {
     "name": "stdout",
     "output_type": "stream",
     "text": [
      "[257136.43628059]\n"
     ]
    }
   ],
   "source": [
    "import numpy as np\n",
    "\n",
    "w0 = np.array([[ 1.19627687e+01,  2.60163283e-01],\n",
    "               [ 4.48832507e-01,  4.00666119e-01],\n",
    "                   [-2.75768443e-01,  3.43724167e-01],\n",
    "                   [ 2.29138536e+01,  3.91783025e-01],\n",
    "                   [-1.22397711e-02, -1.03029800e+00]])\n",
    "\n",
    "w1 = np.array([[11.5631751 , 11.87043684],\n",
    "                   [-0.85735419,  0.27114237]])\n",
    "\n",
    "w2 = np.array([[11.04122165],\n",
    "                   [10.44637262]])\n",
    "\n",
    "b0 = np.array([-4.21310294, -0.52664488])\n",
    "b1 = np.array([-4.84067881, -4.53335139])\n",
    "b2 = np.array([-7.52942418])\n",
    "\n",
    "x = np.array([[111, 13, 12, 1, 161],\n",
    "                 [125, 13, 66, 1, 468],\n",
    "                 [46, 6, 127, 2, 961],\n",
    "                 [80, 9, 80, 2, 816],\n",
    "                 [33, 10, 18, 2, 297],\n",
    "                 [85, 9, 111, 3, 601],\n",
    "                 [24, 10, 105, 2, 1072],\n",
    "                 [31, 4, 66, 1, 417],\n",
    "                 [56, 3, 60, 1, 36],\n",
    "                 [49, 3, 147, 2, 179]])\n",
    "y = np.array([335800., 379100., 118950., 247200., 107950., 266550.,  75850.,\n",
    "                93300., 170650., 149000.])\n",
    "\n",
    "\n",
    "def hidden_activation(z):\n",
    "    # ReLU activation. fix this!\n",
    "        return np.maximum(0, z)\n",
    "\n",
    "def output_activation(z):\n",
    "    # identity (linear) activation. fix this!\n",
    "        return z\n",
    "\n",
    "x_test = [[82, 2, 65, 3, 516]]\n",
    "for item in x_test:\n",
    "    h1_in = np.dot(item, w0) + b0 # this calculates the linear combination of inputs and weights\n",
    "    h1_out = hidden_activation(h1_in) # apply activation function\n",
    "    \n",
    "    # fill out the missing parts:\n",
    "    # the output of the first hidden layer, h1_out, will need to go through\n",
    "    # the second hidden layer with weights w1 and bias b1\n",
    "    # and finally to the output layer with weights w2 and bias b2.\n",
    "    # remember correct activations: relu in the hidden layers and linear (identity) in the output\n",
    "    h2_in = np.dot(h1_out, w1) + b1\n",
    "    h2_out = hidden_activation(h2_in)\n",
    "\n",
    "    out_in = np.dot(h2_in, w2) + b2\n",
    "    out_out = output_activation(out_in)\n",
    "\n",
    "    print(out_out)\n"
   ]
  },
  {
   "cell_type": "code",
   "execution_count": null,
   "metadata": {},
   "outputs": [],
   "source": []
  }
 ],
 "metadata": {
  "interpreter": {
   "hash": "f515130a23d290bc0731b5c2e28c0f12ef2990aa724db53add2e8f7b571dd9c9"
  },
  "kernelspec": {
   "display_name": "Python 3.7.7 64-bit ('fast': conda)",
   "name": "python3"
  },
  "language_info": {
   "codemirror_mode": {
    "name": "ipython",
    "version": 3
   },
   "file_extension": ".py",
   "mimetype": "text/x-python",
   "name": "python",
   "nbconvert_exporter": "python",
   "pygments_lexer": "ipython3",
   "version": "3.7.7"
  }
 },
 "nbformat": 4,
 "nbformat_minor": 4
}