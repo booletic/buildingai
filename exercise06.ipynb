{
 "cells": [
  {
   "cell_type": "code",
   "execution_count": 1,
   "metadata": {},
   "outputs": [],
   "source": [
    "import matplotlib.pyplot as plt"
   ]
  },
  {
   "cell_type": "code",
   "execution_count": 70,
   "metadata": {},
   "outputs": [
    {
     "name": "stdout",
     "output_type": "stream",
     "text": [
      "27\n"
     ]
    }
   ],
   "source": [
    "import numpy as np\n",
    "import random\n",
    "\n",
    "N = 100     # size of the problem is N x N                                      \n",
    "steps = 3000    # total number of iterations                                        \n",
    "tracks = 50\n",
    "\n",
    "# generate a landscape with multiple local optima                                          \n",
    "def generator(x, y, x0=0.0, y0=0.0):\n",
    "    return np.sin((x/N-x0)*np.pi)+np.sin((y/N-y0)*np.pi)+\\\n",
    "        .07*np.cos(12*(x/N-x0)*np.pi)+.07*np.cos(12*(y/N-y0)*np.pi)\n",
    "\n",
    "x0 = np.random.random() - 0.5\n",
    "y0 = np.random.random() - 0.5\n",
    "h = np.fromfunction(np.vectorize(generator), (N, N), x0=x0, y0=y0, dtype=int)\n",
    "peak_x, peak_y = np.unravel_index(np.argmax(h), h.shape)\n",
    "\n",
    "# starting points                                                               \n",
    "x = np.random.randint(0, N, tracks)\n",
    "y = np.random.randint(0, N, tracks)\n",
    "\n",
    "def main():\n",
    "    global x\n",
    "    global y\n",
    "\n",
    "    for step in range(steps):\n",
    "        # add a temperature schedule here\n",
    "#         T = max(1e-03, ((steps - step)/steps)**3-.005)\n",
    "        T = max(1e-03, np.cos(np.pi *step/steps) +1) /2\n",
    "        # update solutions on each search track                                     \n",
    "        for i in range(tracks):\n",
    "            # try a new solution near the current one                               \n",
    "            x_new = np.random.randint(max(0, x[i]-2), min(N, x[i]+2+1))\n",
    "            y_new = np.random.randint(max(0, y[i]-2), min(N, y[i]+2+1))\n",
    "            S_old = h[x[i], y[i]]\n",
    "            S_new = h[x_new, y_new]\n",
    "            \n",
    "            prob = np.exp((S_new - S_old)/T)\n",
    "            \n",
    "            # change this to use simulated annealing\n",
    "            if random.random() < prob:\n",
    "                x[i], y[i] = x_new, y_new   # new solution is better, go there       \n",
    "            else:\n",
    "                pass                        # if the new solution is worse, do nothing\n",
    "\n",
    "    # Number of tracks found the peak\n",
    "    print(sum([x[j] == peak_x and y[j] == peak_y for j in range(tracks)])) \n",
    "main()"
   ]
  },
  {
   "cell_type": "code",
   "execution_count": 71,
   "metadata": {},
   "outputs": [
    {
     "name": "stdout",
     "output_type": "stream",
     "text": [
      "19\n",
      "20\n",
      "17\n",
      "26\n",
      "19\n",
      "23\n",
      "22\n",
      "17\n",
      "21\n",
      "25\n"
     ]
    }
   ],
   "source": [
    "for i in range(10):\n",
    "    main()"
   ]
  },
  {
   "cell_type": "code",
   "execution_count": 39,
   "metadata": {},
   "outputs": [],
   "source": [
    "x = []\n",
    "for step in range(steps):\n",
    "    T = max(0, ((steps - step)/steps)**3-.005)\n",
    "    x.append(T)"
   ]
  },
  {
   "cell_type": "code",
   "execution_count": 40,
   "metadata": {},
   "outputs": [
    {
     "data": {
      "image/png": "[encoded data removed]",
      "text/plain": [
       "<Figure size 432x288 with 1 Axes>"
      ]
     },
     "metadata": {
      "needs_background": "light"
     },
     "output_type": "display_data"
    }
   ],
   "source": [
    "plt.plot(x)\n",
    "plt.show()"
   ]
  },
  {
   "cell_type": "code",
   "execution_count": 66,
   "metadata": {},
   "outputs": [],
   "source": [
    "x2 = []\n",
    "for step in range(steps):\n",
    "    T = max(1e-03, np.cos(np.pi *step/steps) +1) /2\n",
    "    x2.append(T)\n",
    "#     print(T)"
   ]
  },
  {
   "cell_type": "code",
   "execution_count": 67,
   "metadata": {},
   "outputs": [
    {
     "data": {
      "image/png": "[encoded data removed]",
      "text/plain": [
       "<Figure size 432x288 with 1 Axes>"
      ]
     },
     "metadata": {
      "needs_background": "light"
     },
     "output_type": "display_data"
    }
   ],
   "source": [
    "plt.plot(x2)\n",
    "plt.show()"
   ]
  },
  {
   "cell_type": "code",
   "execution_count": null,
   "metadata": {},
   "outputs": [],
   "source": []
  },
  {
   "cell_type": "code",
   "execution_count": null,
   "metadata": {},
   "outputs": [],
   "source": []
  }
 ],
 "metadata": {
  "kernelspec": {
   "display_name": "Python 3",
   "language": "python",
   "name": "python3"
  },
  "language_info": {
   "codemirror_mode": {
    "name": "ipython",
    "version": 3
   },
   "file_extension": ".py",
   "mimetype": "text/x-python",
   "name": "python",
   "nbconvert_exporter": "python",
   "pygments_lexer": "ipython3",
   "version": "3.8.5"
  }
 },
 "nbformat": 4,
 "nbformat_minor": 4
}
