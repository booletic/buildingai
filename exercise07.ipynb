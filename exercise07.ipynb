{
 "cells": [
  {
   "cell_type": "code",
   "execution_count": 169,
   "metadata": {},
   "outputs": [
    {
     "name": "stdout",
     "output_type": "stream",
     "text": [
      "1379\n"
     ]
    }
   ],
   "source": [
    "import numpy as np\n",
    "\n",
    "def generate(p1):\n",
    "    # change this so that it generates 10000 random zeros and ones\n",
    "    # where the probability of one is p1\n",
    "    seq = np.random.choice([0,1], p=[1-p1, p1], size=10000)\n",
    "    return seq\n",
    "\n",
    "def count(seq):\n",
    "    # insert code to return the number of occurrences of 11111 in the sequence\n",
    "    res = 0\n",
    "    occu = 5\n",
    "    for i in range(len(seq)):\n",
    "        if repr(seq[i: i + occu]) == repr(np.ones(occu, dtype=int)):\n",
    "            res += 1\n",
    "    return res\n",
    "\n",
    "def main(p1):\n",
    "    seq = generate(p1)\n",
    "    return count(seq)\n",
    "\n",
    "print(main(2/3))"
   ]
  },
  {
   "cell_type": "code",
   "execution_count": 170,
   "metadata": {},
   "outputs": [
    {
     "data": {
      "text/plain": [
       "array([0, 0, 1, ..., 0, 0, 0])"
      ]
     },
     "execution_count": 170,
     "metadata": {},
     "output_type": "execute_result"
    }
   ],
   "source": [
    "p1 = 0.5\n",
    "np.random.choice([0,1], p=[1-p1, p1], size=10000)"
   ]
  },
  {
   "cell_type": "code",
   "execution_count": 171,
   "metadata": {},
   "outputs": [
    {
     "data": {
      "text/plain": [
       "1316.8724279835387"
      ]
     },
     "execution_count": 171,
     "metadata": {},
     "output_type": "execute_result"
    }
   ],
   "source": [
    "10000*(2/3)**5"
   ]
  },
  {
   "cell_type": "code",
   "execution_count": 181,
   "metadata": {},
   "outputs": [],
   "source": [
    "def count2(seq):\n",
    "    # insert code to return the number of occurrences of 11111 in the sequence\n",
    "    res = 0\n",
    "    occu = 5\n",
    "    for i in range(len(seq)):\n",
    "        if repr(seq[i: i + occu]) == repr(np.ones(occu, dtype=int)):\n",
    "            res += 1\n",
    "        if i % 100 == 0:\n",
    "            print(i, res)\n",
    "    return res"
   ]
  },
  {
   "cell_type": "code",
   "execution_count": 182,
   "metadata": {},
   "outputs": [
    {
     "name": "stdout",
     "output_type": "stream",
     "text": [
      "0 0\n",
      "100 11\n",
      "200 18\n",
      "300 30\n",
      "400 51\n",
      "500 57\n",
      "600 70\n",
      "700 83\n",
      "800 107\n",
      "900 128\n",
      "1000 139\n",
      "1100 147\n",
      "1200 162\n",
      "1300 175\n",
      "1400 186\n",
      "1500 210\n",
      "1600 217\n",
      "1700 221\n",
      "1800 231\n",
      "1900 237\n",
      "2000 258\n",
      "2100 274\n",
      "2200 290\n",
      "2300 298\n",
      "2400 312\n",
      "2500 323\n",
      "2600 331\n",
      "2700 342\n",
      "2800 349\n",
      "2900 363\n",
      "3000 373\n",
      "3100 387\n",
      "3200 393\n",
      "3300 399\n",
      "3400 409\n",
      "3500 429\n",
      "3600 437\n",
      "3700 442\n",
      "3800 454\n",
      "3900 465\n",
      "4000 477\n",
      "4100 480\n",
      "4200 485\n",
      "4300 496\n",
      "4400 509\n",
      "4500 523\n",
      "4600 527\n",
      "4700 545\n",
      "4800 572\n",
      "4900 580\n",
      "5000 586\n",
      "5100 598\n",
      "5200 610\n",
      "5300 626\n",
      "5400 643\n",
      "5500 667\n",
      "5600 672\n",
      "5700 687\n",
      "5800 697\n",
      "5900 719\n",
      "6000 724\n",
      "6100 737\n",
      "6200 748\n",
      "6300 764\n",
      "6400 783\n",
      "6500 795\n",
      "6600 818\n",
      "6700 821\n",
      "6800 839\n",
      "6900 850\n",
      "7000 856\n",
      "7100 873\n",
      "7200 882\n",
      "7300 891\n",
      "7400 904\n",
      "7500 914\n",
      "7600 928\n",
      "7700 935\n",
      "7800 952\n",
      "7900 966\n",
      "8000 975\n",
      "8100 984\n",
      "8200 995\n",
      "8300 1006\n",
      "8400 1009\n",
      "8500 1021\n",
      "8600 1026\n",
      "8700 1032\n",
      "8800 1037\n",
      "8900 1061\n",
      "9000 1069\n",
      "9100 1082\n",
      "9200 1097\n",
      "9300 1104\n",
      "9400 1125\n",
      "9500 1133\n",
      "9600 1136\n",
      "9700 1156\n",
      "9800 1165\n",
      "9900 1196\n"
     ]
    },
    {
     "data": {
      "text/plain": [
       "1202"
      ]
     },
     "execution_count": 182,
     "metadata": {},
     "output_type": "execute_result"
    }
   ],
   "source": [
    "seq2 = generate(2/3)\n",
    "count2(seq2)"
   ]
  },
  {
   "cell_type": "code",
   "execution_count": 164,
   "metadata": {},
   "outputs": [],
   "source": [
    "# for i in range(100):\n",
    "#     print(i % a10)"
   ]
  },
  {
   "cell_type": "code",
   "execution_count": null,
   "metadata": {},
   "outputs": [],
   "source": []
  }
 ],
 "metadata": {
  "kernelspec": {
   "display_name": "Python 3",
   "language": "python",
   "name": "python3"
  },
  "language_info": {
   "codemirror_mode": {
    "name": "ipython",
    "version": 3
   },
   "file_extension": ".py",
   "mimetype": "text/x-python",
   "name": "python",
   "nbconvert_exporter": "python",
   "pygments_lexer": "ipython3",
   "version": "3.8.5"
  }
 },
 "nbformat": 4,
 "nbformat_minor": 4
}
