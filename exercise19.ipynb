{
 "cells": [
  {
   "cell_type": "code",
   "execution_count": 26,
   "metadata": {},
   "outputs": [
    {
     "name": "stdout",
     "output_type": "stream",
     "text": [
      "training accuracy: 0.928358\n",
      "testing accuracy: 0.915152\n"
     ]
    }
   ],
   "source": [
    "from sklearn.neighbors import KNeighborsClassifier\n",
    "from sklearn.datasets import make_moons\n",
    "from sklearn.model_selection import train_test_split\n",
    "import numpy as np\n",
    "\n",
    "# do not edit this\n",
    "# create fake data\n",
    "x, y = make_moons(\n",
    "    n_samples=500,  # the number of observations\n",
    "    random_state=42,\n",
    "    noise=0.3\n",
    ")\n",
    "x_train, x_test, y_train, y_test = train_test_split(x, y, test_size=0.33, random_state=42)\n",
    "\n",
    "# Create a classifier and fit it to our data\n",
    "knn = KNeighborsClassifier(n_neighbors=5)\n",
    "knn.fit(x_train, y_train)\n",
    "\n",
    "score_train = knn.score(x_train, y_train)\n",
    "score_test = knn.score(x_test, y_test)\n",
    "\n",
    "print(\"training accuracy: %f\" % score_train)\n",
    "print(\"testing accuracy: %f\" % score_test)\n"
   ]
  },
  {
   "cell_type": "code",
   "execution_count": 33,
   "metadata": {},
   "outputs": [
    {
     "name": "stdout",
     "output_type": "stream",
     "text": [
      "k = 1\n",
      "training accuracy: 1.000000\n",
      "testing accuracy: 0.860606\n",
      "\n",
      "\n",
      "k = 250\n",
      "training accuracy: 0.767164\n",
      "testing accuracy: 0.812121\n",
      "\n",
      "\n",
      "k = 42\n",
      "training accuracy: 0.925373\n",
      "testing accuracy: 0.909091\n",
      "\n",
      "\n",
      "k = 100\n",
      "training accuracy: 0.880597\n",
      "testing accuracy: 0.890909\n",
      "\n",
      "\n"
     ]
    }
   ],
   "source": [
    "ks = [1, 250, 42, 100]\n",
    "\n",
    "def trial(k):\n",
    "    knn = KNeighborsClassifier(n_neighbors=k)\n",
    "    knn.fit(x_train, y_train)\n",
    "\n",
    "    score_train = knn.score(x_train, y_train)\n",
    "    score_test = knn.score(x_test, y_test)\n",
    "    \n",
    "    \n",
    "    print(f\"k = { k }\")\n",
    "    print(\"training accuracy: %f\" % score_train)\n",
    "    print(\"testing accuracy: %f\" % score_test)\n",
    "    print(f'\\n')\n",
    "    \n",
    "for k in ks:\n",
    "    trial(k)"
   ]
  },
  {
   "cell_type": "code",
   "execution_count": null,
   "metadata": {},
   "outputs": [],
   "source": []
  }
 ],
 "metadata": {
  "kernelspec": {
   "display_name": "Python 3",
   "language": "python",
   "name": "python3"
  },
  "language_info": {
   "codemirror_mode": {
    "name": "ipython",
    "version": 3
   },
   "file_extension": ".py",
   "mimetype": "text/x-python",
   "name": "python",
   "nbconvert_exporter": "python",
   "pygments_lexer": "ipython3",
   "version": "3.8.5"
  }
 },
 "nbformat": 4,
 "nbformat_minor": 4
}
