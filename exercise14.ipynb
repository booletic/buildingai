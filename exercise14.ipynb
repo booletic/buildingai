{
 "cells": [
  {
   "cell_type": "code",
   "execution_count": 26,
   "metadata": {},
   "outputs": [
    {
     "name": "stdout",
     "output_type": "stream",
     "text": [
      "[2989.6  800.6  -44.8 3890.8   99.8]\n",
      "[198102.4 289108.3]\n"
     ]
    }
   ],
   "source": [
    "import numpy as np\n",
    "from io import StringIO\n",
    "\n",
    "\n",
    "train_string = '''\n",
    "25 2 50 1 500 127900\n",
    "39 3 10 1 1000 222100\n",
    "13 2 13 1 1000 143750\n",
    "82 5 20 2 120 268000\n",
    "130 6 10 2 600 460700\n",
    "115 6 10 1 550 407000\n",
    "'''\n",
    "\n",
    "test_string = '''\n",
    "36 3 15 1 850 196000\n",
    "75 5 18 2 540 290000\n",
    "'''\n",
    "\n",
    "def main():\n",
    "    np.set_printoptions(precision=1)    # this just changes the output settings for easier reading\n",
    "\n",
    "    # read in the training data and separate it to x_train and y_train\n",
    "    train_file = StringIO(train_string)\n",
    "    train_data = np.genfromtxt(train_file, skip_header=1)\n",
    "    \n",
    "    x_train = np.asarray(train_data[:,:-1])\n",
    "    y_train = np.asarray(train_data[:,-1:]).ravel()\n",
    "    \n",
    "#     print(x_train)\n",
    "#     print(y_train)\n",
    "     \n",
    "    # fit a linear regression model to the data and get the coefficients\n",
    "#     c = np.asarray([])\n",
    "    c = np.linalg.lstsq(x_train, y_train, rcond=None)[0]\n",
    "\n",
    "    # read in the test data and separate x_test from it\n",
    "#     x_test = np.asarray([])\n",
    "    test_file = StringIO(test_string)\n",
    "    test_data = np.genfromtxt(test_file, skip_header=1)\n",
    "    \n",
    "    x_test = np.asarray(test_data[:,:-1])\n",
    "    y_test = np.asarray(test_data[:,-1:]).ravel()\n",
    "\n",
    "\n",
    "    # print out the linear regression coefficients\n",
    "    print(c)\n",
    "\n",
    "    # this will print out the predicted prics for the two new cabins in the test data set\n",
    "    print(x_test @ c)\n",
    "\n",
    "\n",
    "main()\n"
   ]
  },
  {
   "cell_type": "code",
   "execution_count": null,
   "metadata": {},
   "outputs": [],
   "source": []
  }
 ],
 "metadata": {
  "kernelspec": {
   "display_name": "Python 3",
   "language": "python",
   "name": "python3"
  },
  "language_info": {
   "codemirror_mode": {
    "name": "ipython",
    "version": 3
   },
   "file_extension": ".py",
   "mimetype": "text/x-python",
   "name": "python",
   "nbconvert_exporter": "python",
   "pygments_lexer": "ipython3",
   "version": "3.8.5"
  }
 },
 "nbformat": 4,
 "nbformat_minor": 4
}
