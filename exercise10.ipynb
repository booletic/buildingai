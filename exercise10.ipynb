{
 "cells": [
  {
   "cell_type": "code",
   "execution_count": 2,
   "metadata": {},
   "outputs": [
    {
     "name": "stdout",
     "output_type": "stream",
     "text": [
      "rolling a loaded die\n",
      "rolled 6\n",
      "rolled 6\n",
      "rolled 6\n",
      "rolled 6\n",
      "rolled 6\n",
      "rolled 5\n",
      "rolled 6\n",
      "rolled 6\n",
      "rolled 2\n",
      "rolled 4\n",
      "I think loaded\n"
     ]
    }
   ],
   "source": [
    "import numpy as np\n",
    "\n",
    "p1 = [1/6, 1/6, 1/6, 1/6, 1/6, 1/6]   # normal\n",
    "p2 = [0.1, 0.1, 0.1, 0.1, 0.1, 0.5]   # loaded\n",
    "\n",
    "def roll(loaded):\n",
    "    if loaded:\n",
    "        print(\"rolling a loaded die\")\n",
    "        p = p2\n",
    "    else:\n",
    "        print(\"rolling a normal die\")\n",
    "        p = p1\n",
    "\n",
    "    # roll the dice 10 times\n",
    "    # add 1 to get dice rolls from 1 to 6 instead of 0 to 5\n",
    "    sequence = np.random.choice(6, size=10, p=p) + 1 \n",
    "    for roll in sequence:\n",
    "        print(\"rolled %d\" % roll)\n",
    "        \n",
    "    return sequence\n",
    "\n",
    "def bayes(sequence):\n",
    "    odds = 1.0           # start with odds 1:1\n",
    "    for roll in sequence:\n",
    "#         pass             # edit here to update the odds\n",
    "        odds *= p2[roll - 1] / p1[roll - 1]\n",
    "    if odds > 1:\n",
    "        return True\n",
    "    else:\n",
    "        return False\n",
    "\n",
    "sequence = roll(True)\n",
    "if bayes(sequence):\n",
    "    print(\"I think loaded\")\n",
    "else:\n",
    "    print(\"I think normal\")\n"
   ]
  },
  {
   "cell_type": "code",
   "execution_count": 3,
   "metadata": {},
   "outputs": [
    {
     "data": {
      "text/plain": [
       "1.0"
      ]
     },
     "execution_count": 3,
     "metadata": {},
     "output_type": "execute_result"
    }
   ],
   "source": [
    "sum(p2)"
   ]
  },
  {
   "cell_type": "code",
   "execution_count": 4,
   "metadata": {},
   "outputs": [
    {
     "data": {
      "text/plain": [
       "0.16666666666666666"
      ]
     },
     "execution_count": 4,
     "metadata": {},
     "output_type": "execute_result"
    }
   ],
   "source": [
    "1/6"
   ]
  },
  {
   "cell_type": "code",
   "execution_count": 5,
   "metadata": {},
   "outputs": [],
   "source": [
    "spam = [0.0016285, 0.0000100]\n",
    "ham = [0.0003198, 0.0000391]"
   ]
  },
  {
   "cell_type": "code",
   "execution_count": 6,
   "metadata": {},
   "outputs": [
    {
     "name": "stdout",
     "output_type": "stream",
     "text": [
      "1.302364489314773\n"
     ]
    }
   ],
   "source": [
    "pred = 1.0\n",
    "for i in range(2):\n",
    "    pred *= spam[i] / ham[i]\n",
    "    \n",
    "print(pred)"
   ]
  },
  {
   "cell_type": "code",
   "execution_count": 7,
   "metadata": {},
   "outputs": [
    {
     "data": {
      "text/plain": [
       "0.5656639056756739"
      ]
     },
     "execution_count": 7,
     "metadata": {},
     "output_type": "execute_result"
    }
   ],
   "source": [
    "pred / (pred + 1)"
   ]
  },
  {
   "cell_type": "code",
   "execution_count": 173,
   "metadata": {},
   "outputs": [],
   "source": [
    "p = [1/6, 1/6, 1/6, 1/6, 1/6, 1/6]\n",
    "sequence = np.random.choice(6, size=100, p=p) + 1 "
   ]
  },
  {
   "cell_type": "code",
   "execution_count": 174,
   "metadata": {},
   "outputs": [
    {
     "data": {
      "text/plain": [
       "array([6, 1, 3, 1, 2, 4, 5, 2, 4, 3])"
      ]
     },
     "execution_count": 174,
     "metadata": {},
     "output_type": "execute_result"
    }
   ],
   "source": [
    "sequence[:10]"
   ]
  },
  {
   "cell_type": "code",
   "execution_count": 184,
   "metadata": {},
   "outputs": [],
   "source": [
    "res = []\n",
    "for i in range(len(sequence)):\n",
    "    res.append(sum(sequence[:(i + 1)])/(i + 1))"
   ]
  },
  {
   "cell_type": "code",
   "execution_count": 185,
   "metadata": {},
   "outputs": [
    {
     "data": {
      "text/plain": [
       "100"
      ]
     },
     "execution_count": 185,
     "metadata": {},
     "output_type": "execute_result"
    }
   ],
   "source": [
    "len(res)"
   ]
  },
  {
   "cell_type": "code",
   "execution_count": 186,
   "metadata": {},
   "outputs": [],
   "source": [
    "import matplotlib.pyplot as plt"
   ]
  },
  {
   "cell_type": "code",
   "execution_count": 187,
   "metadata": {},
   "outputs": [
    {
     "data": {
      "image/png": "[encoded data removed]",
      "text/plain": [
       "<Figure size 720x432 with 1 Axes>"
      ]
     },
     "metadata": {
      "needs_background": "light"
     },
     "output_type": "display_data"
    }
   ],
   "source": [
    "plt.figure(figsize=[10, 6])\n",
    "plt.plot(res)\n",
    "plt.xlabel(\"Number of Rolls\")\n",
    "plt.ylabel('Value')\n",
    "plt.yticks([1, 2, 3, 4, 5, 6])\n",
    "plt.title('Expectation')\n",
    "plt.show()"
   ]
  },
  {
   "cell_type": "code",
   "execution_count": null,
   "metadata": {},
   "outputs": [],
   "source": []
  }
 ],
 "metadata": {
  "kernelspec": {
   "display_name": "Python 3",
   "language": "python",
   "name": "python3"
  },
  "language_info": {
   "codemirror_mode": {
    "name": "ipython",
    "version": 3
   },
   "file_extension": ".py",
   "mimetype": "text/x-python",
   "name": "python",
   "nbconvert_exporter": "python",
   "pygments_lexer": "ipython3",
   "version": "3.8.5"
  }
 },
 "nbformat": 4,
 "nbformat_minor": 4
}
