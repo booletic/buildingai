{
 "cells": [
  {
   "cell_type": "code",
   "execution_count": 1,
   "metadata": {},
   "outputs": [
    {
     "name": "stdout",
     "output_type": "stream",
     "text": [
      "(0, 1)\n"
     ]
    }
   ],
   "source": [
    "text = '''Humpty Dumpty sat on a wall\n",
    "Humpty Dumpty had a great fall\n",
    "all the king's horses and all the king's men\n",
    "couldn't put Humpty together again'''\n",
    "\n",
    "import math\n",
    "import numpy as np\n",
    "\n",
    "\n",
    "def distance(row1, row2):\n",
    "    x = np.asarray(row1)\n",
    "    y = np.asarray(row2)\n",
    "    \n",
    "    res = np.sum(np.abs(x - y))\n",
    "    if res == 0:\n",
    "        return np.inf\n",
    "    else:\n",
    "        return res\n",
    "\n",
    "    \n",
    "def find_nearest_pair(data):\n",
    "    N = len(data)\n",
    "    dist = [[distance(sent1, sent2) for sent1 in data] for sent2 in data]\n",
    "    dist = np.asarray(dist)\n",
    "    print(np.unravel_index(np.argmin(dist), dist.shape))\n",
    "    \n",
    "    \n",
    "def tfidf_func(text):\n",
    "    res= []\n",
    "    # split the text first into lines and then into lists of words\n",
    "    docs = [line.split() for line in text.splitlines()]\n",
    "\n",
    "    N = len(docs)\n",
    "\n",
    "    # create the vocabulary: the list of words that appear at least once\n",
    "    vocabulary = list(set(text.split()))\n",
    "\n",
    "    df = {}\n",
    "    tf = {}\n",
    "    for word in vocabulary:\n",
    "        # tf: number of occurrences of word w in document divided by document length\n",
    "        # note: tf[word] will be a list containing the tf of each word for each document\n",
    "        # for example tf['he'][0] contains the term frequence of the word 'he' in the first\n",
    "        # document\n",
    "        tf[word] = [doc.count(word)/len(doc) for doc in docs]\n",
    "\n",
    "        # df: number of documents containing word w\n",
    "        df[word] = sum([word in doc for doc in docs])/N\n",
    "\n",
    "    # loop through documents to calculate the tf-idf values\n",
    "    for doc_index, doc in enumerate(docs):\n",
    "        tfidf = []\n",
    "        for word in vocabulary:\n",
    "            # ADD THE CORRECT FORMULA HERE. Remember to use the base 10 logarithm: math.log(x, 10)\n",
    "            idf = math.log(math.pow(df[word], -1), 10)\n",
    "            tfidf.append(tf[word][doc_index] * idf)\n",
    "        res.append(tfidf)\n",
    "    return(res)\n",
    "\n",
    "\n",
    "def main(text):\n",
    "    # tasks your code should perform:\n",
    "\n",
    "    # 1. split the text into words, and get a list of unique words that appear in it\n",
    "    # a short one-liner to separate the text into sentences (with words lower-cased to make words equal \n",
    "    # despite casing) can be done with \n",
    "    # docs = [line.lower().split() for line in text.split('\\n')]\n",
    "\n",
    "    # 2. go over each unique word and calculate its term frequency, and its document frequency\n",
    "\n",
    "    # 3. after you have your term frequencies and document frequencies, go over each line in the text and \n",
    "    # calculate its TF-IDF representation, which will be a vector\n",
    "\n",
    "    # 4. after you have calculated the TF-IDF representations for each line in the text, you need to\n",
    "    # calculate the distances between each line to find which are the closest.\n",
    "    \n",
    "    find_nearest_pair(tfidf_func(text))\n",
    "\n",
    "\n",
    "main(text)\n",
    "\n"
   ]
  },
  {
   "cell_type": "code",
   "execution_count": null,
   "metadata": {},
   "outputs": [],
   "source": []
  }
 ],
 "metadata": {
  "kernelspec": {
   "display_name": "Python 3",
   "language": "python",
   "name": "python3"
  },
  "language_info": {
   "codemirror_mode": {
    "name": "ipython",
    "version": 3
   },
   "file_extension": ".py",
   "mimetype": "text/x-python",
   "name": "python",
   "nbconvert_exporter": "python",
   "pygments_lexer": "ipython3",
   "version": "3.8.5"
  }
 },
 "nbformat": 4,
 "nbformat_minor": 4
}
