{
 "cells": [
  {
   "cell_type": "code",
   "execution_count": 7,
   "metadata": {},
   "outputs": [],
   "source": [
    "# Run this in Python once, it should take effect permanently\n",
    "# from notebook.services.config import ConfigManager\n",
    "# c = ConfigManager()\n",
    "# c.update('notebook', {\"CodeCell\": {\"cm_config\": {\"autoCloseBrackets\": False}}})"
   ]
  },
  {
   "cell_type": "code",
   "execution_count": 51,
   "metadata": {},
   "outputs": [
    {
     "data": {
      "text/plain": [
       "[1, 2, 3, 4]"
      ]
     },
     "execution_count": 51,
     "metadata": {},
     "output_type": "execute_result"
    }
   ],
   "source": [
    "list(range(1, len(portnames)))"
   ]
  },
  {
   "cell_type": "code",
   "execution_count": 155,
   "metadata": {},
   "outputs": [
    {
     "name": "stdout",
     "output_type": "stream",
     "text": [
      "PAN AMS CAS NYC HEL\n",
      "PAN AMS CAS HEL NYC\n",
      "PAN AMS NYC CAS HEL\n",
      "PAN AMS NYC HEL CAS\n",
      "PAN AMS HEL CAS NYC\n",
      "PAN AMS HEL NYC CAS\n",
      "PAN CAS AMS NYC HEL\n",
      "PAN CAS AMS HEL NYC\n",
      "PAN CAS NYC AMS HEL\n",
      "PAN CAS NYC HEL AMS\n",
      "PAN CAS HEL AMS NYC\n",
      "PAN CAS HEL NYC AMS\n",
      "PAN NYC AMS CAS HEL\n",
      "PAN NYC AMS HEL CAS\n",
      "PAN NYC CAS AMS HEL\n",
      "PAN NYC CAS HEL AMS\n",
      "PAN NYC HEL AMS CAS\n",
      "PAN NYC HEL CAS AMS\n",
      "PAN HEL AMS CAS NYC\n",
      "PAN HEL AMS NYC CAS\n",
      "PAN HEL CAS AMS NYC\n",
      "PAN HEL CAS NYC AMS\n",
      "PAN HEL NYC AMS CAS\n",
      "PAN HEL NYC CAS AMS\n"
     ]
    }
   ],
   "source": [
    "from itertools import permutations as permute\n",
    "\n",
    "portnames = [\"PAN\", \"AMS\", \"CAS\", \"NYC\", \"HEL\"]\n",
    " \n",
    "def permutations(route, ports):\n",
    "    # write the recursive function here\n",
    "    # remember to print out the route as the recursion ends\n",
    "    res = permute(ports)\n",
    "    for i in res:\n",
    "        temp = list(i)\n",
    "        temp.insert(0, route[0])\n",
    "        print(' '.join([portnames[j] for j in temp]))\n",
    "\n",
    "\n",
    "# this will start the recursion with 0 as the first stop\n",
    "permutations([0], list(range(1, len(portnames))))"
   ]
  },
  {
   "cell_type": "code",
   "execution_count": null,
   "metadata": {},
   "outputs": [],
   "source": []
  },
  {
   "cell_type": "code",
   "execution_count": 110,
   "metadata": {},
   "outputs": [],
   "source": [
    "res = list(permute(list(range(1, len(portnames)))))"
   ]
  },
  {
   "cell_type": "code",
   "execution_count": 115,
   "metadata": {},
   "outputs": [
    {
     "data": {
      "text/plain": [
       "tuple"
      ]
     },
     "execution_count": 115,
     "metadata": {},
     "output_type": "execute_result"
    }
   ],
   "source": []
  },
  {
   "cell_type": "code",
   "execution_count": 154,
   "metadata": {},
   "outputs": [
    {
     "data": {
      "text/plain": [
       "'A'"
      ]
     },
     "execution_count": 154,
     "metadata": {},
     "output_type": "execute_result"
    }
   ],
   "source": [
    "portnames[0][1]"
   ]
  },
  {
   "cell_type": "code",
   "execution_count": null,
   "metadata": {},
   "outputs": [],
   "source": []
  }
 ],
 "metadata": {
  "kernelspec": {
   "display_name": "Python 3",
   "language": "python",
   "name": "python3"
  },
  "language_info": {
   "codemirror_mode": {
    "name": "ipython",
    "version": 3
   },
   "file_extension": ".py",
   "mimetype": "text/x-python",
   "name": "python",
   "nbconvert_exporter": "python",
   "pygments_lexer": "ipython3",
   "version": "3.8.5"
  }
 },
 "nbformat": 4,
 "nbformat_minor": 4
}
