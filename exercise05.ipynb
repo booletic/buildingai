{
 "cells": [
  {
   "cell_type": "code",
   "execution_count": 1,
   "metadata": {},
   "outputs": [],
   "source": [
    "import random\n",
    "import numpy as np\n",
    "\n",
    "\n",
    "\n",
    "def accept_prob(S_old, S_new, T):\n",
    "    # this is the acceptance \"probability\" in the greedy hill-climbing method\n",
    "    # where new solutions are accepted if and only if they are better\n",
    "    # than the old one.\n",
    "    # change it to be the acceptance probability in simulated annealing\n",
    "    \n",
    "    prob = np.exp((-S_old +S_new) /T)\n",
    "\n",
    "    if S_new > S_old:\n",
    "        return 1.0\n",
    "    else:\n",
    "        return prob\n",
    "\n",
    "\n",
    "# the above function will be used as follows. this is shown just for\n",
    "# your information; you don't have to change anything here\n",
    "def accept(S_old, S_new, T):\n",
    "    if random.random() < accept_prob(S_old, S_new, T):\n",
    "        print(True)\n",
    "    else:\n",
    "        print(False)"
   ]
  },
  {
   "cell_type": "code",
   "execution_count": 2,
   "metadata": {},
   "outputs": [
    {
     "data": {
      "text/plain": [
       "0.36787944117144233"
      ]
     },
     "execution_count": 2,
     "metadata": {},
     "output_type": "execute_result"
    }
   ],
   "source": [
    "accept_prob(150, 140, 10)"
   ]
  },
  {
   "cell_type": "code",
   "execution_count": 3,
   "metadata": {},
   "outputs": [],
   "source": [
    "import math, random\n",
    "\n",
    "def accept_prob(S_old, S_new, T):\n",
    "    if S_new > S_old:\n",
    "        return 1.0\n",
    "    else:\n",
    "        return math.exp((S_new - S_old)/T)\n",
    "\n",
    "def accept(S_old, S_new, T):\n",
    "    if math.random() < accept_prob(S_old, S_new, T):\n",
    "        return True\n",
    "    else:\n",
    "        return False"
   ]
  },
  {
   "cell_type": "code",
   "execution_count": null,
   "metadata": {},
   "outputs": [],
   "source": []
  }
 ],
 "metadata": {
  "kernelspec": {
   "display_name": "Python 3",
   "language": "python",
   "name": "python3"
  },
  "language_info": {
   "codemirror_mode": {
    "name": "ipython",
    "version": 3
   },
   "file_extension": ".py",
   "mimetype": "text/x-python",
   "name": "python",
   "nbconvert_exporter": "python",
   "pygments_lexer": "ipython3",
   "version": "3.8.5"
  }
 },
 "nbformat": 4,
 "nbformat_minor": 4
}
