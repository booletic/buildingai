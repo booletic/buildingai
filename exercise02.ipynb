{
 "cells": [
  {
   "cell_type": "code",
   "execution_count": 1,
   "metadata": {},
   "outputs": [
    {
     "name": "stdout",
     "output_type": "stream",
     "text": [
      "PAN NYC CAS AMS HEL 283.7 kg\n"
     ]
    }
   ],
   "source": [
    "portnames = [\"PAN\", \"AMS\", \"CAS\", \"NYC\", \"HEL\"]\n",
    "\n",
    "# https://sea-distances.org/\n",
    "# nautical miles converted to km\n",
    "\n",
    "D = [\n",
    "        [0,8943,8019,3652,10545],\n",
    "        [8943,0,2619,6317,2078],\n",
    "        [8019,2619,0,5836,4939],\n",
    "        [3652,6317,5836,0,7825],\n",
    "        [10545,2078,4939,7825,0]\n",
    "    ]\n",
    "\n",
    "# https://timeforchange.org/co2-emissions-shipping-goods\n",
    "# assume 20g per km per metric ton (of pineapples)\n",
    "\n",
    "co2 = 0.020\n",
    "\n",
    "# DATA BLOCK ENDS\n",
    "\n",
    "# these variables are initialised to nonsensical values\n",
    "# your program should determine the correct values for them\n",
    "smallest = 1000000\n",
    "bestroute = [0, 0, 0, 0, 0]\n",
    "\n",
    "def permutations(route, ports):\n",
    "    # write the recursive function here\n",
    "    # remember to calculate the emissions of the route as the recursion ends\n",
    "    # and keep track of the route with the lowest emissions\n",
    "    if len(ports) < 1:\n",
    "        temp = []\n",
    "        for i in range(len(route)-1):\n",
    "            temp.append(D[route[i]][route[i+1]])\n",
    "        \n",
    "        global smallest\n",
    "        global bestroute\n",
    "        \n",
    "        if sum(temp) < smallest:\n",
    "            bestroute = route\n",
    "            smallest = sum(temp)\n",
    "            \n",
    "    else:\n",
    "        for i in range(len(ports)):\n",
    "            permutations(route+[ports[i]], ports[:i]+ports[i+1:])\n",
    "\n",
    "def main():\n",
    "    # this will start the recursion \n",
    "    permutations([0], list(range(1, len(portnames))))\n",
    "\n",
    "    emi = smallest * co2\n",
    "    # print the best route and its emissions\n",
    "    print(' '.join([portnames[i] for i in bestroute]) + \" %.1f kg\" % emi)\n",
    "\n",
    "main()\n"
   ]
  },
  {
   "cell_type": "code",
   "execution_count": 2,
   "metadata": {},
   "outputs": [
    {
     "name": "stdout",
     "output_type": "stream",
     "text": [
      "PAN AMS CAS NYC HEL\n",
      "PAN AMS CAS HEL NYC\n",
      "PAN AMS NYC CAS HEL\n",
      "PAN AMS NYC HEL CAS\n",
      "PAN AMS HEL CAS NYC\n",
      "PAN AMS HEL NYC CAS\n",
      "PAN CAS AMS NYC HEL\n",
      "PAN CAS AMS HEL NYC\n",
      "PAN CAS NYC AMS HEL\n",
      "PAN CAS NYC HEL AMS\n",
      "PAN CAS HEL AMS NYC\n",
      "PAN CAS HEL NYC AMS\n",
      "PAN NYC AMS CAS HEL\n",
      "PAN NYC AMS HEL CAS\n",
      "PAN NYC CAS AMS HEL\n",
      "PAN NYC CAS HEL AMS\n",
      "PAN NYC HEL AMS CAS\n",
      "PAN NYC HEL CAS AMS\n",
      "PAN HEL AMS CAS NYC\n",
      "PAN HEL AMS NYC CAS\n",
      "PAN HEL CAS AMS NYC\n",
      "PAN HEL CAS NYC AMS\n",
      "PAN HEL NYC AMS CAS\n",
      "PAN HEL NYC CAS AMS\n"
     ]
    }
   ],
   "source": [
    "def permutations(route, ports):\n",
    "    if len(ports) < 1:\n",
    "        print(' '.join([portnames[i] for i in route]))\n",
    "    else:\n",
    "        for i in range(len(ports)):\n",
    "            permutations(route+[ports[i]], ports[:i]+ports[i+1:])\n",
    " \n",
    "permutations([0], list(range(1, len(portnames))))"
   ]
  },
  {
   "cell_type": "code",
   "execution_count": 3,
   "metadata": {},
   "outputs": [],
   "source": [
    "# PAN NYC CAS AMS HEL 283.7 kg"
   ]
  },
  {
   "cell_type": "code",
   "execution_count": 4,
   "metadata": {},
   "outputs": [
    {
     "data": {
      "text/plain": [
       "283.7"
      ]
     },
     "execution_count": 4,
     "metadata": {},
     "output_type": "execute_result"
    }
   ],
   "source": [
    "(3652 + 5836 + 2619 + 2078) *0.02"
   ]
  },
  {
   "cell_type": "code",
   "execution_count": 5,
   "metadata": {},
   "outputs": [
    {
     "data": {
      "text/plain": [
       "178.86"
      ]
     },
     "execution_count": 5,
     "metadata": {},
     "output_type": "execute_result"
    }
   ],
   "source": [
    "8943 * 0.02"
   ]
  },
  {
   "cell_type": "code",
   "execution_count": 6,
   "metadata": {},
   "outputs": [
    {
     "name": "stdout",
     "output_type": "stream",
     "text": [
      "PAN NYC CAS AMS HEL 283.7 kg\n"
     ]
    }
   ],
   "source": [
    "portnames = [\"PAN\", \"AMS\", \"CAS\", \"NYC\", \"HEL\"]\n",
    "\n",
    "D = [\n",
    "        [0,8943,8019,3652,10545],\n",
    "        [8943,0,2619,6317,2078],\n",
    "        [8019,2619,0,5836,4939],\n",
    "        [3652,6317,5836,0,7825],\n",
    "        [10545,2078,4939,7825,0]\n",
    "    ]\n",
    "\n",
    "co2 = 0.020\n",
    "\n",
    "smallest = 1000000\n",
    "bestroute = None\n",
    "\n",
    "def permutations(route, ports):\n",
    "    global smallest, bestroute\n",
    "    if len(ports) < 1:\n",
    "        score = co2 * sum(D[i][j] for i, j in zip(route[:-1], route[1:]))\n",
    "        if score < smallest:\n",
    "            smallest = score\n",
    "            bestroute = route\n",
    "    else:\n",
    "        for i in range(len(ports)):\n",
    "            permutations(route+[ports[i]], ports[:i]+ports[i+1:])\n",
    "\n",
    "def main():\n",
    "    permutations([0], list(range(1, len(portnames))))\n",
    "\n",
    "    print(' '.join([portnames[i] for i in bestroute]) + \" %.1f kg\" % smallest)\n",
    "\n",
    "main()"
   ]
  },
  {
   "cell_type": "code",
   "execution_count": null,
   "metadata": {},
   "outputs": [],
   "source": []
  },
  {
   "cell_type": "code",
   "execution_count": null,
   "metadata": {},
   "outputs": [],
   "source": []
  }
 ],
 "metadata": {
  "kernelspec": {
   "display_name": "Python 3",
   "language": "python",
   "name": "python3"
  },
  "language_info": {
   "codemirror_mode": {
    "name": "ipython",
    "version": 3
   },
   "file_extension": ".py",
   "mimetype": "text/x-python",
   "name": "python",
   "nbconvert_exporter": "python",
   "pygments_lexer": "ipython3",
   "version": "3.8.5"
  }
 },
 "nbformat": 4,
 "nbformat_minor": 4
}
