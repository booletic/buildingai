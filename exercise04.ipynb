{
 "cells": [
  {
   "cell_type": "code",
   "execution_count": 1,
   "metadata": {},
   "outputs": [
    {
     "name": "stdout",
     "output_type": "stream",
     "text": [
      "I love dogs\n"
     ]
    }
   ],
   "source": [
    "import random\n",
    "\n",
    "def main():\n",
    "\n",
    "    prob1 = 0.80\n",
    "    prob2 = 0.50\n",
    "\n",
    "    favourite = [\"dogs\", \"cats\", \"bats\"]  # change this\n",
    "    if random.random() < prob1:\n",
    "        print(\"I love \" + favourite[0])\n",
    "    else:\n",
    "        if random.random() <  prob2:\n",
    "            print(\"I love \" + favourite[1])\n",
    "        else:\n",
    "            print(\"I love \" + favourite[2])\n",
    "\n",
    "\n",
    "main()"
   ]
  },
  {
   "cell_type": "code",
   "execution_count": 2,
   "metadata": {},
   "outputs": [
    {
     "name": "stdout",
     "output_type": "stream",
     "text": [
      "I love dogs\n"
     ]
    }
   ],
   "source": [
    "import random\n",
    "\n",
    "x = random.random()\n",
    "if x < 0.8:\n",
    "    favourite = \"dogs\"\n",
    "elif x < 0.9:\n",
    "    favourite = \"cats\"\n",
    "else:\n",
    "    favourite = \"bats\"\n",
    "\n",
    "print(\"I love \" + favourite)"
   ]
  },
  {
   "cell_type": "code",
   "execution_count": null,
   "metadata": {},
   "outputs": [],
   "source": []
  }
 ],
 "metadata": {
  "kernelspec": {
   "display_name": "Python 3",
   "language": "python",
   "name": "python3"
  },
  "language_info": {
   "codemirror_mode": {
    "name": "ipython",
    "version": 3
   },
   "file_extension": ".py",
   "mimetype": "text/x-python",
   "name": "python",
   "nbconvert_exporter": "python",
   "pygments_lexer": "ipython3",
   "version": "3.8.5"
  }
 },
 "nbformat": 4,
 "nbformat_minor": 4
}
